{
 "cells": [
  {
   "cell_type": "markdown",
   "metadata": {},
   "source": [
    "# Output PDBs with escape scores as B factors\n",
    "This Python Jupyter notebook outputs PDBs with the escape scores as B factors.\n",
    "\n",
    "Though we will want more elaborate series of commands to codify our visualization of these RBD structures colored by escape, the series of commands below, when executed in a `PyMol` session with one of these PDBs open, will color the RBD surface according to escape scores.\n",
    "\n",
    "For example, to normalize each structure colored by the max mut effect, we might want to have a white to red scale from 0 to 1:\n",
    "\n",
    "     create RBD, chain E\n",
    "     hide all; show cartoon, chain A; color gray20, chain A\n",
    "     show surface, RBD; spectrum b, white red, RBD, minimum=0, maximum=1\n",
    "     \n",
    "For something like total escape, maybe we want each structure normalized to the maximum total escape in that structure, in which case we can just leave the maximum argument empty:\n",
    "\n",
    "     create RBD, chain E\n",
    "     hide all; show cartoon, chain A; color gray20, chain A\n",
    "     show surface, RBD; spectrum b, white red, RBD, minimum=0\n",
    "     \n",
    "We write PDBs with B factors indicating the total site escape and maximum mutation escape at each site, and the same with these values normalized to the maximum for the full structure (the latter are easier to process in `Chimera`).\n",
    "\n",
    "First, import Python modules:"
   ]
  },
  {
   "cell_type": "code",
   "execution_count": 1,
   "metadata": {
    "execution": {
     "iopub.execute_input": "2024-01-17T18:21:43.228675Z",
     "iopub.status.busy": "2024-01-17T18:21:43.228267Z",
     "iopub.status.idle": "2024-01-17T18:21:44.173086Z",
     "shell.execute_reply": "2024-01-17T18:21:44.172255Z"
    }
   },
   "outputs": [],
   "source": [
    "import collections\n",
    "import copy\n",
    "import os\n",
    "import warnings\n",
    "\n",
    "import Bio.PDB\n",
    "\n",
    "import dms_variants.pdb_utils\n",
    "\n",
    "from IPython.display import display, HTML\n",
    "\n",
    "import pandas as pd\n",
    "\n",
    "import yaml"
   ]
  },
  {
   "cell_type": "markdown",
   "metadata": {},
   "source": [
    "Read the configuration file:"
   ]
  },
  {
   "cell_type": "code",
   "execution_count": 2,
   "metadata": {
    "execution": {
     "iopub.execute_input": "2024-01-17T18:21:44.176954Z",
     "iopub.status.busy": "2024-01-17T18:21:44.176523Z",
     "iopub.status.idle": "2024-01-17T18:21:44.217234Z",
     "shell.execute_reply": "2024-01-17T18:21:44.216538Z"
    }
   },
   "outputs": [],
   "source": [
    "with open('config.yaml') as f:\n",
    "    config = yaml.safe_load(f)"
   ]
  },
  {
   "cell_type": "markdown",
   "metadata": {},
   "source": [
    "Read configuration for outputting PDBs:"
   ]
  },
  {
   "cell_type": "code",
   "execution_count": 3,
   "metadata": {
    "execution": {
     "iopub.execute_input": "2024-01-17T18:21:44.220397Z",
     "iopub.status.busy": "2024-01-17T18:21:44.220084Z",
     "iopub.status.idle": "2024-01-17T18:21:44.236754Z",
     "shell.execute_reply": "2024-01-17T18:21:44.236047Z"
    }
   },
   "outputs": [
    {
     "name": "stdout",
     "output_type": "stream",
     "text": [
      "Reading PDB output configuration from data/output_pdbs_config.yaml\n"
     ]
    }
   ],
   "source": [
    "print(f\"Reading PDB output configuration from {config['output_pdbs_config']}\")\n",
    "with open(config['output_pdbs_config']) as f:\n",
    "    output_pdbs_config = yaml.safe_load(f)"
   ]
  },
  {
   "cell_type": "markdown",
   "metadata": {},
   "source": [
    "Make output directory:"
   ]
  },
  {
   "cell_type": "code",
   "execution_count": 4,
   "metadata": {
    "execution": {
     "iopub.execute_input": "2024-01-17T18:21:44.493063Z",
     "iopub.status.busy": "2024-01-17T18:21:44.492539Z",
     "iopub.status.idle": "2024-01-17T18:21:44.496584Z",
     "shell.execute_reply": "2024-01-17T18:21:44.495898Z"
    }
   },
   "outputs": [],
   "source": [
    "os.makedirs(config['pdb_outputs_dir_Omicron_BA2'], exist_ok=True)"
   ]
  },
  {
   "cell_type": "markdown",
   "metadata": {},
   "source": [
    "Read escape fractions and compute **total** and **maximum** escape at each site, and also the total and maximum escape at each site normalized to be between 0 and 1 for each selection:"
   ]
  },
  {
   "cell_type": "code",
   "execution_count": 5,
   "metadata": {
    "execution": {
     "iopub.execute_input": "2024-01-17T18:21:44.499876Z",
     "iopub.status.busy": "2024-01-17T18:21:44.499460Z",
     "iopub.status.idle": "2024-01-17T18:21:44.820801Z",
     "shell.execute_reply": "2024-01-17T18:21:44.820022Z"
    }
   },
   "outputs": [
    {
     "name": "stdout",
     "output_type": "stream",
     "text": [
      "Reading escape fractions from results/escape_scores/escape_fracs_Omicron_BA2.csv\n"
     ]
    },
    {
     "data": {
      "text/html": [
       "<table border=\"1\" class=\"dataframe\">\n",
       "  <thead>\n",
       "    <tr style=\"text-align: right;\">\n",
       "      <th>selection</th>\n",
       "      <th>site</th>\n",
       "      <th>total_escape</th>\n",
       "      <th>max_escape</th>\n",
       "      <th>max_total_escape</th>\n",
       "      <th>max_max_escape</th>\n",
       "      <th>norm_total_escape</th>\n",
       "      <th>norm_max_escape</th>\n",
       "    </tr>\n",
       "  </thead>\n",
       "  <tbody>\n",
       "    <tr>\n",
       "      <td>C68_10_77</td>\n",
       "      <td>331</td>\n",
       "      <td>0.093417</td>\n",
       "      <td>0.01409</td>\n",
       "      <td>12.44162</td>\n",
       "      <td>0.8647</td>\n",
       "      <td>0.007508</td>\n",
       "      <td>0.016295</td>\n",
       "    </tr>\n",
       "    <tr>\n",
       "      <td>C68_10_77</td>\n",
       "      <td>332</td>\n",
       "      <td>0.140684</td>\n",
       "      <td>0.01264</td>\n",
       "      <td>12.44162</td>\n",
       "      <td>0.8647</td>\n",
       "      <td>0.011308</td>\n",
       "      <td>0.014618</td>\n",
       "    </tr>\n",
       "    <tr>\n",
       "      <td>C68_10_77</td>\n",
       "      <td>333</td>\n",
       "      <td>0.106821</td>\n",
       "      <td>0.01075</td>\n",
       "      <td>12.44162</td>\n",
       "      <td>0.8647</td>\n",
       "      <td>0.008586</td>\n",
       "      <td>0.012432</td>\n",
       "    </tr>\n",
       "    <tr>\n",
       "      <td>C68_10_77</td>\n",
       "      <td>334</td>\n",
       "      <td>0.140121</td>\n",
       "      <td>0.01500</td>\n",
       "      <td>12.44162</td>\n",
       "      <td>0.8647</td>\n",
       "      <td>0.011262</td>\n",
       "      <td>0.017347</td>\n",
       "    </tr>\n",
       "    <tr>\n",
       "      <td>C68_10_77</td>\n",
       "      <td>335</td>\n",
       "      <td>0.152520</td>\n",
       "      <td>0.01520</td>\n",
       "      <td>12.44162</td>\n",
       "      <td>0.8647</td>\n",
       "      <td>0.012259</td>\n",
       "      <td>0.017578</td>\n",
       "    </tr>\n",
       "  </tbody>\n",
       "</table>"
      ],
      "text/plain": [
       "<IPython.core.display.HTML object>"
      ]
     },
     "metadata": {},
     "output_type": "display_data"
    }
   ],
   "source": [
    "print(f\"Reading escape fractions from {config['escape_fracs_Omicron_BA2']}\")\n",
    "\n",
    "escape_fracs = (\n",
    "    pd.read_csv(config['escape_fracs_Omicron_BA2'])\n",
    "    .query('library == \"average\"')\n",
    "    .assign(site=lambda x: x['label_site'])\n",
    "    .groupby(['selection', 'site'])\n",
    "    .aggregate(total_escape=pd.NamedAgg(config['mut_metric'], 'sum'),\n",
    "               max_escape=pd.NamedAgg(config['mut_metric'], 'max')\n",
    "               )\n",
    "    .reset_index()\n",
    "    .assign(max_total_escape=lambda x: x.groupby('selection')['total_escape'].transform('max'),\n",
    "            max_max_escape=lambda x: x.groupby('selection')['max_escape'].transform('max'),\n",
    "            norm_total_escape=lambda x: x['total_escape'] / x['max_total_escape'],\n",
    "            norm_max_escape=lambda x: x['max_escape'] / x['max_max_escape'])\n",
    "    )\n",
    "\n",
    "display(HTML(escape_fracs.head().to_html(index=False)))"
   ]
  },
  {
   "cell_type": "markdown",
   "metadata": {},
   "source": [
    "Now map the escape metrics to the B-factors.\n",
    "For sites where no mutations have escape scores:\n",
    " - In the RBD chain(s) fill the B-factor for non-normalized scores to -1 to enable collapsing to zero or callout as a a separate class, depending how we choose to color sites for different visualizations. For normalized scores, fill to 0.\n",
    " - In other chains, always fill missing B factors to 0.  "
   ]
  },
  {
   "cell_type": "code",
   "execution_count": 6,
   "metadata": {
    "execution": {
     "iopub.execute_input": "2024-01-17T18:21:44.824581Z",
     "iopub.status.busy": "2024-01-17T18:21:44.823994Z",
     "iopub.status.idle": "2024-01-17T18:22:06.223685Z",
     "shell.execute_reply": "2024-01-17T18:22:06.222920Z"
    }
   },
   "outputs": [
    {
     "name": "stdout",
     "output_type": "stream",
     "text": [
      "\n",
      "Making PDB mappings for 6m0j to data/pdbs/6M0J.pdb\n",
      "Making mappings for 17 conditions.\n",
      "Mapping to the following chains: E\n",
      "  Writing B-factor re-assigned PDBs for C68_10_77 to:\n",
      "    results/pdb_outputs/Omicron_BA2/C68_10_77_6m0j_total_escape.pdb\n",
      "    results/pdb_outputs/Omicron_BA2/C68_10_77_6m0j_max_escape.pdb\n",
      "    results/pdb_outputs/Omicron_BA2/C68_10_77_6m0j_norm_total_escape.pdb\n",
      "    results/pdb_outputs/Omicron_BA2/C68_10_77_6m0j_norm_max_escape.pdb\n",
      "  Writing B-factor re-assigned PDBs for C68_121_95 to:\n",
      "    results/pdb_outputs/Omicron_BA2/C68_121_95_6m0j_total_escape.pdb\n",
      "    results/pdb_outputs/Omicron_BA2/C68_121_95_6m0j_max_escape.pdb\n",
      "    results/pdb_outputs/Omicron_BA2/C68_121_95_6m0j_norm_total_escape.pdb\n",
      "    results/pdb_outputs/Omicron_BA2/C68_121_95_6m0j_norm_max_escape.pdb\n",
      "  Writing B-factor re-assigned PDBs for C68_170_110 to:\n",
      "    results/pdb_outputs/Omicron_BA2/C68_170_110_6m0j_total_escape.pdb\n",
      "    results/pdb_outputs/Omicron_BA2/C68_170_110_6m0j_max_escape.pdb\n",
      "    results/pdb_outputs/Omicron_BA2/C68_170_110_6m0j_norm_total_escape.pdb\n",
      "    results/pdb_outputs/Omicron_BA2/C68_170_110_6m0j_norm_max_escape.pdb\n",
      "  Writing B-factor re-assigned PDBs for C68_175_93 to:\n",
      "    results/pdb_outputs/Omicron_BA2/C68_175_93_6m0j_total_escape.pdb\n",
      "    results/pdb_outputs/Omicron_BA2/C68_175_93_6m0j_max_escape.pdb\n",
      "    results/pdb_outputs/Omicron_BA2/C68_175_93_6m0j_norm_total_escape.pdb\n",
      "    results/pdb_outputs/Omicron_BA2/C68_175_93_6m0j_norm_max_escape.pdb\n",
      "  Writing B-factor re-assigned PDBs for C68_17_150 to:\n",
      "    results/pdb_outputs/Omicron_BA2/C68_17_150_6m0j_total_escape.pdb\n",
      "    results/pdb_outputs/Omicron_BA2/C68_17_150_6m0j_max_escape.pdb\n",
      "    results/pdb_outputs/Omicron_BA2/C68_17_150_6m0j_norm_total_escape.pdb\n",
      "    results/pdb_outputs/Omicron_BA2/C68_17_150_6m0j_norm_max_escape.pdb\n",
      "  Writing B-factor re-assigned PDBs for C68_183_180 to:\n",
      "    results/pdb_outputs/Omicron_BA2/C68_183_180_6m0j_total_escape.pdb\n",
      "    results/pdb_outputs/Omicron_BA2/C68_183_180_6m0j_max_escape.pdb\n",
      "    results/pdb_outputs/Omicron_BA2/C68_183_180_6m0j_norm_total_escape.pdb\n",
      "    results/pdb_outputs/Omicron_BA2/C68_183_180_6m0j_norm_max_escape.pdb\n",
      "  Writing B-factor re-assigned PDBs for C68_185_110 to:\n",
      "    results/pdb_outputs/Omicron_BA2/C68_185_110_6m0j_total_escape.pdb\n",
      "    results/pdb_outputs/Omicron_BA2/C68_185_110_6m0j_max_escape.pdb\n",
      "    results/pdb_outputs/Omicron_BA2/C68_185_110_6m0j_norm_total_escape.pdb\n",
      "    results/pdb_outputs/Omicron_BA2/C68_185_110_6m0j_norm_max_escape.pdb\n",
      "  Writing B-factor re-assigned PDBs for C68_194_42 to:\n",
      "    results/pdb_outputs/Omicron_BA2/C68_194_42_6m0j_total_escape.pdb\n",
      "    results/pdb_outputs/Omicron_BA2/C68_194_42_6m0j_max_escape.pdb\n",
      "    results/pdb_outputs/Omicron_BA2/C68_194_42_6m0j_norm_total_escape.pdb\n",
      "    results/pdb_outputs/Omicron_BA2/C68_194_42_6m0j_norm_max_escape.pdb\n",
      "  Writing B-factor re-assigned PDBs for C68_200_312 to:\n",
      "    results/pdb_outputs/Omicron_BA2/C68_200_312_6m0j_total_escape.pdb\n",
      "    results/pdb_outputs/Omicron_BA2/C68_200_312_6m0j_max_escape.pdb\n",
      "    results/pdb_outputs/Omicron_BA2/C68_200_312_6m0j_norm_total_escape.pdb\n",
      "    results/pdb_outputs/Omicron_BA2/C68_200_312_6m0j_norm_max_escape.pdb\n",
      "  Writing B-factor re-assigned PDBs for C68_201_50 to:\n",
      "    results/pdb_outputs/Omicron_BA2/C68_201_50_6m0j_total_escape.pdb\n",
      "    results/pdb_outputs/Omicron_BA2/C68_201_50_6m0j_max_escape.pdb\n",
      "    results/pdb_outputs/Omicron_BA2/C68_201_50_6m0j_norm_total_escape.pdb\n",
      "    results/pdb_outputs/Omicron_BA2/C68_201_50_6m0j_norm_max_escape.pdb\n",
      "  Writing B-factor re-assigned PDBs for C68_203_107 to:\n",
      "    results/pdb_outputs/Omicron_BA2/C68_203_107_6m0j_total_escape.pdb\n",
      "    results/pdb_outputs/Omicron_BA2/C68_203_107_6m0j_max_escape.pdb\n",
      "    results/pdb_outputs/Omicron_BA2/C68_203_107_6m0j_norm_total_escape.pdb\n",
      "    results/pdb_outputs/Omicron_BA2/C68_203_107_6m0j_norm_max_escape.pdb\n",
      "  Writing B-factor re-assigned PDBs for C68_327_259 to:\n",
      "    results/pdb_outputs/Omicron_BA2/C68_327_259_6m0j_total_escape.pdb\n",
      "    results/pdb_outputs/Omicron_BA2/C68_327_259_6m0j_max_escape.pdb\n",
      "    results/pdb_outputs/Omicron_BA2/C68_327_259_6m0j_norm_total_escape.pdb\n",
      "    results/pdb_outputs/Omicron_BA2/C68_327_259_6m0j_norm_max_escape.pdb\n",
      "  Writing B-factor re-assigned PDBs for C68_348_79 to:\n",
      "    results/pdb_outputs/Omicron_BA2/C68_348_79_6m0j_total_escape.pdb\n",
      "    results/pdb_outputs/Omicron_BA2/C68_348_79_6m0j_max_escape.pdb\n",
      "    results/pdb_outputs/Omicron_BA2/C68_348_79_6m0j_norm_total_escape.pdb\n",
      "    results/pdb_outputs/Omicron_BA2/C68_348_79_6m0j_norm_max_escape.pdb\n",
      "  Writing B-factor re-assigned PDBs for C68_3_180 to:\n",
      "    results/pdb_outputs/Omicron_BA2/C68_3_180_6m0j_total_escape.pdb\n",
      "    results/pdb_outputs/Omicron_BA2/C68_3_180_6m0j_max_escape.pdb\n",
      "    results/pdb_outputs/Omicron_BA2/C68_3_180_6m0j_norm_total_escape.pdb\n",
      "    results/pdb_outputs/Omicron_BA2/C68_3_180_6m0j_norm_max_escape.pdb\n",
      "  Writing B-factor re-assigned PDBs for C68_490_53 to:\n",
      "    results/pdb_outputs/Omicron_BA2/C68_490_53_6m0j_total_escape.pdb\n",
      "    results/pdb_outputs/Omicron_BA2/C68_490_53_6m0j_max_escape.pdb\n",
      "    results/pdb_outputs/Omicron_BA2/C68_490_53_6m0j_norm_total_escape.pdb\n",
      "    results/pdb_outputs/Omicron_BA2/C68_490_53_6m0j_norm_max_escape.pdb\n",
      "  Writing B-factor re-assigned PDBs for C68_61_98 to:\n",
      "    results/pdb_outputs/Omicron_BA2/C68_61_98_6m0j_total_escape.pdb\n",
      "    results/pdb_outputs/Omicron_BA2/C68_61_98_6m0j_max_escape.pdb\n",
      "    results/pdb_outputs/Omicron_BA2/C68_61_98_6m0j_norm_total_escape.pdb\n",
      "    results/pdb_outputs/Omicron_BA2/C68_61_98_6m0j_norm_max_escape.pdb\n",
      "  Writing B-factor re-assigned PDBs for C68_83_34 to:\n",
      "    results/pdb_outputs/Omicron_BA2/C68_83_34_6m0j_total_escape.pdb\n",
      "    results/pdb_outputs/Omicron_BA2/C68_83_34_6m0j_max_escape.pdb\n",
      "    results/pdb_outputs/Omicron_BA2/C68_83_34_6m0j_norm_total_escape.pdb\n",
      "    results/pdb_outputs/Omicron_BA2/C68_83_34_6m0j_norm_max_escape.pdb\n"
     ]
    }
   ],
   "source": [
    "for name, specs in output_pdbs_config.items():\n",
    "    print(f\"\\nMaking PDB mappings for {name} to {specs['pdbfile']}\")\n",
    "    assert os.path.isfile(specs['pdbfile'])\n",
    "    \n",
    "    # get escape fracs just for conditions of interest\n",
    "    if isinstance(specs['conditions'], str) and specs['conditions'].upper() == 'ALL':\n",
    "        conditions = escape_fracs['selection'].unique().tolist()\n",
    "    else:\n",
    "        assert isinstance(specs['conditions'], list)\n",
    "        conditions = specs['conditions']\n",
    "    print(f\"Making mappings for {len(conditions)} conditions.\")\n",
    "    df = escape_fracs.query('selection in @conditions')\n",
    "    \n",
    "    # get chains\n",
    "    assert isinstance(specs['chains'], list)\n",
    "    print('Mapping to the following chains: ' + ', '.join(specs['chains']))\n",
    "    df = pd.concat([df.assign(chain=chain) for chain in specs['chains']], ignore_index=True)\n",
    "    \n",
    "    # make mappings for each condition and metric\n",
    "    for condition, df in df.groupby('selection'):\n",
    "        print(f\"  Writing B-factor re-assigned PDBs for {condition} to:\")\n",
    "    \n",
    "        for metric in ['total_escape', 'max_escape', 'norm_total_escape', 'norm_max_escape']:\n",
    "        \n",
    "            # what do we assign to missing sites?\n",
    "            missing_metric = collections.defaultdict(lambda: 0)  # non-RBD chains always fill to zero\n",
    "            for chain in specs['chains']:\n",
    "                if 'norm' in metric:\n",
    "                    missing_metric[chain] = 0  # missing sites in RBD are 0 for normalized metric PDBs\n",
    "                else:\n",
    "                    missing_metric[chain] = -1  # missing sites in RBD are -1 for non-normalized metric PDBs\n",
    "        \n",
    "            fname = os.path.join(config['pdb_outputs_dir_Omicron_BA2'], f\"{condition}_{name}_{metric}.pdb\")\n",
    "            print(f\"    {fname}\")\n",
    "            \n",
    "            dms_variants.pdb_utils.reassign_b_factor(input_pdbfile=specs['pdbfile'],\n",
    "                                                     output_pdbfile=fname,\n",
    "                                                     df=df,\n",
    "                                                     metric_col=metric,\n",
    "                                                     missing_metric=missing_metric)"
   ]
  },
  {
   "cell_type": "code",
   "execution_count": null,
   "metadata": {},
   "outputs": [],
   "source": []
  }
 ],
 "metadata": {
  "kernelspec": {
   "display_name": "Python 3 (ipykernel)",
   "language": "python",
   "name": "python3"
  },
  "language_info": {
   "codemirror_mode": {
    "name": "ipython",
    "version": 3
   },
   "file_extension": ".py",
   "mimetype": "text/x-python",
   "name": "python",
   "nbconvert_exporter": "python",
   "pygments_lexer": "ipython3",
   "version": "3.8.15"
  }
 },
 "nbformat": 4,
 "nbformat_minor": 4
}
